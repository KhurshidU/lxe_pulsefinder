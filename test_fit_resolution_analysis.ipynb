{
 "cells": [
  {
   "cell_type": "code",
   "execution_count": null,
   "metadata": {},
   "outputs": [],
   "source": [
    "import numpy as np\n",
    "import os \n",
    "import sys\n",
    "import numba \n",
    "import matplotlib.pyplot as plt\n",
    "import iminuit \n",
    "import scipy\n",
    "import pandas\n",
    "\n",
    "from template_fit import *"
   ]
  },
  {
   "cell_type": "code",
   "execution_count": null,
   "metadata": {},
   "outputs": [],
   "source": [
    "df = pandas.read_csv(\"./pulse_seperation_standalone.csv\", sep=\"|\")\n",
    "df = df.loc[df['noise'] == 1]\n",
    "df.head()"
   ]
  },
  {
   "cell_type": "code",
   "execution_count": null,
   "metadata": {},
   "outputs": [],
   "source": [
    "ti = 0\n",
    "dfi = df.loc[df['t2'] == ti]\n",
    "\n",
    "# plt.plot(dfi['e2'], dfi['nfound'])\n",
    "fig,ax = plt.subplots(figsize=(7,5))\n",
    "plt.scatter(dfi['e2'], dfi['e1'], c=dfi['nfound'])\n",
    "plt.xlabel(\"E2 [Pulse Height]\")\n",
    "plt.ylabel(\"E1 [Pulse Height]\")\n",
    "plt.title(f\"Pulse Resolution for t2={round(ti,2)}\")\n",
    "plt.colorbar()\n",
    "plt.show()"
   ]
  },
  {
   "cell_type": "code",
   "execution_count": null,
   "metadata": {},
   "outputs": [],
   "source": [
    "# ti = 0\n",
    "# dfi = df.loc[df['t2'] == ti]\n",
    "\n",
    "for ti, dfi in df.groupby(['t2']):\n",
    "\n",
    "    # plt.plot(dfi['e2'], dfi['nfound'])\n",
    "    fig,ax = plt.subplots(figsize=(7,5))\n",
    "    plt.scatter(dfi['e2'], dfi['e1'], c=dfi['nfound'])\n",
    "    plt.xlabel(\"E2 [Pulse Height]\")\n",
    "    plt.ylabel(\"E1 [Pulse Height]\")\n",
    "    plt.title(f\"Pulse Resolution for t2={round(ti,2)}\")\n",
    "    plt.colorbar()\n",
    "    plt.savefig(f\"./images/pulse_resolution/pulses_e1_vs_e2_by_t2_{ti}.png\", bbox_inches='tight', facecolor='w')\n",
    "    plt.show()\n",
    "    # break"
   ]
  },
  {
   "cell_type": "code",
   "execution_count": null,
   "metadata": {},
   "outputs": [],
   "source": [
    "for ti, dfi in df.groupby(['e1']):\n",
    "    # plt.plot(dfi['e2'], dfi['nfound'])\n",
    "    fig,ax = plt.subplots(figsize=(7,5))\n",
    "    plt.scatter(dfi['e2'], dfi['t2'], c=dfi['nfound'])\n",
    "    plt.xlabel(\"E2 [Pulse Height]\")\n",
    "    plt.ylabel(\"T2 [ns]\")\n",
    "    plt.title(f\"Pulse Resolution for E1={round(ti,2)}\")\n",
    "    plt.colorbar()\n",
    "    plt.savefig(f\"./images/pulse_resolution/pulses_e2_vs_t2_by_e1_{ti}.png\", bbox_inches='tight', facecolor='w')\n",
    "    plt.show()\n",
    "    # break"
   ]
  },
  {
   "cell_type": "markdown",
   "metadata": {},
   "source": [
    "---\n",
    "\n",
    "# Investigate the pulses where there are 3 fits\n",
    "\n",
    "---"
   ]
  },
  {
   "cell_type": "code",
   "execution_count": null,
   "metadata": {},
   "outputs": [],
   "source": [
    "df3 = df.loc[df['nfound'] == 3]\n",
    "df3.head()"
   ]
  },
  {
   "cell_type": "code",
   "execution_count": null,
   "metadata": {},
   "outputs": [],
   "source": [
    "template = LXeTemplate.load('lxe.template')\n",
    "\n",
    "\n",
    "def plot_fit(row):\n",
    "    fig,ax = plt.subplots(figsize=(15,5))\n",
    "    plt.plot([row['t1'], row['t2']], [0,0], \"o\")\n",
    "\n",
    "    times = [row['fit_t0'], row['fit_t1'], row['fit_t2']]\n",
    "\n",
    "    plt.plot(times, np.ones_like(times),\"o\")\n",
    "    return fig,ax \n",
    "\n",
    "def recreate_fit(row):\n",
    "    times = [row['t1'], row['t2']]\n",
    "    energies = [row['e1'], row['e2']]\n",
    "    # print(times,energies)\n",
    "    data = make_fake_data_from_template(template.template,times, energies , noisefloor=10)\n",
    "    fit = TemplateFit(data, template.template, verbose=False, chi2limit=100, minimum_energy=25)\n",
    "    fit.do_fit()\n",
    "    # fit.save(\"\")\n",
    "    return fit.plot()\n",
    "\n",
    "for i, row in df3.iterrows():\n",
    "    plot_fit(row)\n",
    "    plt.show()\n",
    "    recreate_fit(row)\n",
    "    plt.show()\n",
    "    break"
   ]
  },
  {
   "cell_type": "code",
   "execution_count": null,
   "metadata": {},
   "outputs": [],
   "source": [
    "recreate_fit({'e1':310, \"e2\":5000, \"t1\":100, \"t2\":115})"
   ]
  },
  {
   "cell_type": "code",
   "execution_count": null,
   "metadata": {},
   "outputs": [],
   "source": []
  }
 ],
 "metadata": {
  "interpreter": {
   "hash": "50f7bc7d13a21b12f1a76cf7e77148b3fd7e818ae86e06e121788831c4c19508"
  },
  "kernelspec": {
   "display_name": "Python 3.9.6 64-bit ('vscode': conda)",
   "name": "python3"
  },
  "language_info": {
   "codemirror_mode": {
    "name": "ipython",
    "version": 3
   },
   "file_extension": ".py",
   "mimetype": "text/x-python",
   "name": "python",
   "nbconvert_exporter": "python",
   "pygments_lexer": "ipython3",
   "version": "3.9.6"
  },
  "orig_nbformat": 4
 },
 "nbformat": 4,
 "nbformat_minor": 2
}
