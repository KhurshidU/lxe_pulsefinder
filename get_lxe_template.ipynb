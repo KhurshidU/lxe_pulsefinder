{
 "cells": [
  {
   "cell_type": "code",
   "execution_count": 1,
   "metadata": {},
   "outputs": [
    {
     "name": "stdout",
     "output_type": "stream",
     "text": [
      "Welcome to JupyROOT 6.24/02\n"
     ]
    }
   ],
   "source": [
    "import ROOT as r\n",
    "import matplotlib.pyplot as plt\n",
    "import numpy as np"
   ]
  },
  {
   "cell_type": "code",
   "execution_count": 2,
   "metadata": {},
   "outputs": [
    {
     "name": "stdout",
     "output_type": "stream",
     "text": [
      "['n', 'm', 'trk', 'stp', 'vlm', 'pro', 'pdg', 'pid', 'dt', 'de', 'dl', 'l', 'x', 'y', 'z', 't', 'k', 'p', 'q', 'et', 'px', 'py', 'pz']\n"
     ]
    }
   ],
   "source": [
    "infile = '/home/jlab/github/MonteCarlo/build/pienux_out.root'\n",
    "f = r.TFile(infile)\n",
    "t = f.Get(\"t\")\n",
    "\n",
    "print([x.GetName() for x in t.GetListOfBranches()])"
   ]
  },
  {
   "cell_type": "code",
   "execution_count": 22,
   "metadata": {},
   "outputs": [],
   "source": [
    "alltimes = []\n",
    "\n",
    "# h = r.TH2D(\"h\", \"Fuzzy LXe Template\", 1000,-200,800)\n",
    "\n",
    "for i, e in enumerate(t):\n",
    "    # print(i)\n",
    "    try:\n",
    "        times = np.array([ x for i,x in enumerate(e.t) if ( e.vlm[i] == 1004 and e.pdg[i] == 0) ])\n",
    "        times = times - np.amin(times)\n",
    "\n",
    "        hist = np.histogram(times,bins=1000, range=(-200,800))\n",
    "\n",
    "        # for i,x in enumerate(hist[0])\n",
    "\n",
    "        # print(times[:10])\n",
    "        alltimes.append(hist)\n",
    "    except:\n",
    "        pass \n",
    "\n",
    "    # plt.hist(e.t,bins=400, range=(0,400)\n",
    "    # if(i > 3):\n",
    "    #     break"
   ]
  },
  {
   "cell_type": "code",
   "execution_count": 23,
   "metadata": {},
   "outputs": [
    {
     "data": {
      "image/png": "[encoded data removed]",
      "text/plain": [
       "<Figure size 432x288 with 1 Axes>"
      ]
     },
     "metadata": {
      "needs_background": "light"
     },
     "output_type": "display_data"
    }
   ],
   "source": [
    "for x in alltimes:\n",
    "    plt.plot(x[0])"
   ]
  },
  {
   "cell_type": "code",
   "execution_count": 24,
   "metadata": {},
   "outputs": [
    {
     "data": {
      "text/plain": [
       "[<matplotlib.lines.Line2D at 0x7fe8d3c3e6a0>]"
      ]
     },
     "execution_count": 24,
     "metadata": {},
     "output_type": "execute_result"
    },
    {
     "data": {
      "image/png": "[encoded data removed]",
      "text/plain": [
       "<Figure size 432x288 with 1 Axes>"
      ]
     },
     "metadata": {
      "needs_background": "light"
     },
     "output_type": "display_data"
    }
   ],
   "source": [
    "average_hist = []\n",
    "hist_weights = []\n",
    "vals = [x[0]/np.amax(x[0]) for x in alltimes]\n",
    "\n",
    "for x in zip(*vals):\n",
    "    # print(x)\n",
    "    average_hist.append(np.mean(x))\n",
    "    hist_weights.append(np.std(x))\n",
    "    # break\n",
    "\n",
    "plt.plot(average_hist)"
   ]
  },
  {
   "cell_type": "code",
   "execution_count": 26,
   "metadata": {},
   "outputs": [],
   "source": [
    "# fig,ax = plt.subplots(figsize=(7,4))\n",
    "# hist = plt.hist(alltimes,bins=1000, range=(-200,800))\n",
    "# plt.yscale(\"log\")\n",
    "# # plt.xlim(0,40)\n",
    "# plt.show()"
   ]
  },
  {
   "cell_type": "code",
   "execution_count": 48,
   "metadata": {},
   "outputs": [],
   "source": [
    "from template_fit import LXeTemplate"
   ]
  },
  {
   "cell_type": "code",
   "execution_count": 49,
   "metadata": {},
   "outputs": [],
   "source": [
    "def make_template_from_histogram(hist, outfile):\n",
    "    # from template_fit import LXeTemplate\n",
    "    ys = hist[0]\n",
    "    ys /= np.amax(ys)\n",
    "    centers = hist[1][:-1] + (hist[1][0]+hist[1][1])/2.0\n",
    "\n",
    "    template = LXeTemplate()\n",
    "    template.form_template(centers, ys)\n",
    "    return template \n",
    "\n",
    "# template = make_template_from_histogram(hist, '')\n",
    "template = make_template_from_histogram((average_hist, hist[1]), '')"
   ]
  },
  {
   "cell_type": "code",
   "execution_count": 50,
   "metadata": {},
   "outputs": [
    {
     "data": {
      "image/png": "[encoded data removed]",
      "text/plain": [
       "<Figure size 432x288 with 1 Axes>"
      ]
     },
     "metadata": {
      "needs_background": "light"
     },
     "output_type": "display_data"
    }
   ],
   "source": [
    "xs = np.linspace(-10,500,10000)\n",
    "plt.plot(xs, template.template(xs))\n",
    "plt.yscale(\"log\")\n",
    "# plt.xlim(-10,10)\n",
    "plt.show()"
   ]
  },
  {
   "cell_type": "code",
   "execution_count": 47,
   "metadata": {},
   "outputs": [],
   "source": [
    "template.save(\"lxe.template\")"
   ]
  },
  {
   "cell_type": "code",
   "execution_count": null,
   "metadata": {},
   "outputs": [],
   "source": [
    "import pickle\n",
    "with open('ding.pickle', 'wb') as f:\n",
    "    pickle.dump('hello', f)"
   ]
  },
  {
   "cell_type": "code",
   "execution_count": null,
   "metadata": {},
   "outputs": [],
   "source": [
    "def make_fake_data_from_template(template, times, amplitudes, noise=True, noisefloor=10):\n",
    "    assert len(times) == len(amplitudes)\n",
    "\n",
    "    limits = (np.amin(times) - 10, np.amax(times) + 400)\n",
    "    xs = np.linspace(*limits, int(limits[1] - limits[0]))\n",
    "    ys = np.zeros_like(xs)\n",
    "\n",
    "    for i, (t, a) in enumerate(zip(times,amplitudes)):\n",
    "        # print(i, t, a)\n",
    "        ys += template(xs - t) * a \n",
    "        # plt.plot(xs, template(xs - t) * a )\n",
    "\n",
    "    # plt.show()\n",
    "\n",
    "    if noise:\n",
    "        ys += np.random.normal(0, noisefloor, ys.size)\n",
    "\n",
    "    return xs, ys\n",
    "\n",
    "ding = make_fake_data_from_template(template.template, [10,130,500], [1,1,1])\n",
    "plt.plot(*ding)\n",
    "# plt.yscale(\"log\")\n",
    "plt.show()"
   ]
  },
  {
   "cell_type": "code",
   "execution_count": null,
   "metadata": {},
   "outputs": [],
   "source": []
  }
 ],
 "metadata": {
  "interpreter": {
   "hash": "50f7bc7d13a21b12f1a76cf7e77148b3fd7e818ae86e06e121788831c4c19508"
  },
  "kernelspec": {
   "display_name": "Python 3.9.6 64-bit ('vscode': conda)",
   "name": "python3"
  },
  "language_info": {
   "codemirror_mode": {
    "name": "ipython",
    "version": 3
   },
   "file_extension": ".py",
   "mimetype": "text/x-python",
   "name": "python",
   "nbconvert_exporter": "python",
   "pygments_lexer": "ipython3",
   "version": "3.9.6"
  },
  "orig_nbformat": 4
 },
 "nbformat": 4,
 "nbformat_minor": 2
}
